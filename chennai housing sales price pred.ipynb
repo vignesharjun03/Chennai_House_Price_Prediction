{
 "cells": [
  {
   "cell_type": "code",
   "execution_count": 2,
   "id": "2d4f5721",
   "metadata": {},
   "outputs": [],
   "source": [
    "import pandas as pd\n",
    "import numpy as np\n",
    "import matplotlib.pyplot as plt\n",
    "import seaborn as sns\n",
    "import warnings\n",
    "warnings.filterwarnings('ignore')\n",
    "pd.set_option('display.max_columns',None)"
   ]
  },
  {
   "cell_type": "code",
   "execution_count": 3,
   "id": "575febc0",
   "metadata": {},
   "outputs": [
    {
     "data": {
      "text/html": [
       "<div>\n",
       "<style scoped>\n",
       "    .dataframe tbody tr th:only-of-type {\n",
       "        vertical-align: middle;\n",
       "    }\n",
       "\n",
       "    .dataframe tbody tr th {\n",
       "        vertical-align: top;\n",
       "    }\n",
       "\n",
       "    .dataframe thead th {\n",
       "        text-align: right;\n",
       "    }\n",
       "</style>\n",
       "<table border=\"1\" class=\"dataframe\">\n",
       "  <thead>\n",
       "    <tr style=\"text-align: right;\">\n",
       "      <th></th>\n",
       "      <th>PRT_ID</th>\n",
       "      <th>AREA</th>\n",
       "      <th>INT_SQFT</th>\n",
       "      <th>DATE_SALE</th>\n",
       "      <th>DIST_MAINROAD</th>\n",
       "      <th>N_BEDROOM</th>\n",
       "      <th>N_BATHROOM</th>\n",
       "      <th>N_ROOM</th>\n",
       "      <th>SALE_COND</th>\n",
       "      <th>PARK_FACIL</th>\n",
       "      <th>DATE_BUILD</th>\n",
       "      <th>BUILDTYPE</th>\n",
       "      <th>UTILITY_AVAIL</th>\n",
       "      <th>STREET</th>\n",
       "      <th>MZZONE</th>\n",
       "      <th>QS_ROOMS</th>\n",
       "      <th>QS_BATHROOM</th>\n",
       "      <th>QS_BEDROOM</th>\n",
       "      <th>QS_OVERALL</th>\n",
       "      <th>REG_FEE</th>\n",
       "      <th>COMMIS</th>\n",
       "      <th>SALES_PRICE</th>\n",
       "    </tr>\n",
       "  </thead>\n",
       "  <tbody>\n",
       "    <tr>\n",
       "      <th>0</th>\n",
       "      <td>P03210</td>\n",
       "      <td>Karapakkam</td>\n",
       "      <td>1004</td>\n",
       "      <td>04-05-2011</td>\n",
       "      <td>131</td>\n",
       "      <td>1.0</td>\n",
       "      <td>1.0</td>\n",
       "      <td>3</td>\n",
       "      <td>AbNormal</td>\n",
       "      <td>Yes</td>\n",
       "      <td>15-05-1967</td>\n",
       "      <td>Commercial</td>\n",
       "      <td>AllPub</td>\n",
       "      <td>Paved</td>\n",
       "      <td>A</td>\n",
       "      <td>4.0</td>\n",
       "      <td>3.9</td>\n",
       "      <td>4.9</td>\n",
       "      <td>4.330</td>\n",
       "      <td>380000</td>\n",
       "      <td>144400</td>\n",
       "      <td>7600000</td>\n",
       "    </tr>\n",
       "    <tr>\n",
       "      <th>1</th>\n",
       "      <td>P09411</td>\n",
       "      <td>Anna Nagar</td>\n",
       "      <td>1986</td>\n",
       "      <td>19-12-2006</td>\n",
       "      <td>26</td>\n",
       "      <td>2.0</td>\n",
       "      <td>1.0</td>\n",
       "      <td>5</td>\n",
       "      <td>AbNormal</td>\n",
       "      <td>No</td>\n",
       "      <td>22-12-1995</td>\n",
       "      <td>Commercial</td>\n",
       "      <td>AllPub</td>\n",
       "      <td>Gravel</td>\n",
       "      <td>RH</td>\n",
       "      <td>4.9</td>\n",
       "      <td>4.2</td>\n",
       "      <td>2.5</td>\n",
       "      <td>3.765</td>\n",
       "      <td>760122</td>\n",
       "      <td>304049</td>\n",
       "      <td>21717770</td>\n",
       "    </tr>\n",
       "    <tr>\n",
       "      <th>2</th>\n",
       "      <td>P01812</td>\n",
       "      <td>Adyar</td>\n",
       "      <td>909</td>\n",
       "      <td>04-02-2012</td>\n",
       "      <td>70</td>\n",
       "      <td>1.0</td>\n",
       "      <td>1.0</td>\n",
       "      <td>3</td>\n",
       "      <td>AbNormal</td>\n",
       "      <td>Yes</td>\n",
       "      <td>09-02-1992</td>\n",
       "      <td>Commercial</td>\n",
       "      <td>ELO</td>\n",
       "      <td>Gravel</td>\n",
       "      <td>RL</td>\n",
       "      <td>4.1</td>\n",
       "      <td>3.8</td>\n",
       "      <td>2.2</td>\n",
       "      <td>3.090</td>\n",
       "      <td>421094</td>\n",
       "      <td>92114</td>\n",
       "      <td>13159200</td>\n",
       "    </tr>\n",
       "    <tr>\n",
       "      <th>3</th>\n",
       "      <td>P05346</td>\n",
       "      <td>Velachery</td>\n",
       "      <td>1855</td>\n",
       "      <td>13-03-2010</td>\n",
       "      <td>14</td>\n",
       "      <td>3.0</td>\n",
       "      <td>2.0</td>\n",
       "      <td>5</td>\n",
       "      <td>Family</td>\n",
       "      <td>No</td>\n",
       "      <td>18-03-1988</td>\n",
       "      <td>Others</td>\n",
       "      <td>NoSewr</td>\n",
       "      <td>Paved</td>\n",
       "      <td>I</td>\n",
       "      <td>4.7</td>\n",
       "      <td>3.9</td>\n",
       "      <td>3.6</td>\n",
       "      <td>4.010</td>\n",
       "      <td>356321</td>\n",
       "      <td>77042</td>\n",
       "      <td>9630290</td>\n",
       "    </tr>\n",
       "    <tr>\n",
       "      <th>4</th>\n",
       "      <td>P06210</td>\n",
       "      <td>Karapakkam</td>\n",
       "      <td>1226</td>\n",
       "      <td>05-10-2009</td>\n",
       "      <td>84</td>\n",
       "      <td>1.0</td>\n",
       "      <td>1.0</td>\n",
       "      <td>3</td>\n",
       "      <td>AbNormal</td>\n",
       "      <td>Yes</td>\n",
       "      <td>13-10-1979</td>\n",
       "      <td>Others</td>\n",
       "      <td>AllPub</td>\n",
       "      <td>Gravel</td>\n",
       "      <td>C</td>\n",
       "      <td>3.0</td>\n",
       "      <td>2.5</td>\n",
       "      <td>4.1</td>\n",
       "      <td>3.290</td>\n",
       "      <td>237000</td>\n",
       "      <td>74063</td>\n",
       "      <td>7406250</td>\n",
       "    </tr>\n",
       "    <tr>\n",
       "      <th>...</th>\n",
       "      <td>...</td>\n",
       "      <td>...</td>\n",
       "      <td>...</td>\n",
       "      <td>...</td>\n",
       "      <td>...</td>\n",
       "      <td>...</td>\n",
       "      <td>...</td>\n",
       "      <td>...</td>\n",
       "      <td>...</td>\n",
       "      <td>...</td>\n",
       "      <td>...</td>\n",
       "      <td>...</td>\n",
       "      <td>...</td>\n",
       "      <td>...</td>\n",
       "      <td>...</td>\n",
       "      <td>...</td>\n",
       "      <td>...</td>\n",
       "      <td>...</td>\n",
       "      <td>...</td>\n",
       "      <td>...</td>\n",
       "      <td>...</td>\n",
       "      <td>...</td>\n",
       "    </tr>\n",
       "    <tr>\n",
       "      <th>7104</th>\n",
       "      <td>P03834</td>\n",
       "      <td>Karapakkam</td>\n",
       "      <td>598</td>\n",
       "      <td>03-01-2011</td>\n",
       "      <td>51</td>\n",
       "      <td>1.0</td>\n",
       "      <td>1.0</td>\n",
       "      <td>2</td>\n",
       "      <td>AdjLand</td>\n",
       "      <td>No</td>\n",
       "      <td>15-01-1962</td>\n",
       "      <td>Others</td>\n",
       "      <td>ELO</td>\n",
       "      <td>No Access</td>\n",
       "      <td>RM</td>\n",
       "      <td>3.0</td>\n",
       "      <td>2.2</td>\n",
       "      <td>2.4</td>\n",
       "      <td>2.520</td>\n",
       "      <td>208767</td>\n",
       "      <td>107060</td>\n",
       "      <td>5353000</td>\n",
       "    </tr>\n",
       "    <tr>\n",
       "      <th>7105</th>\n",
       "      <td>P10000</td>\n",
       "      <td>Velachery</td>\n",
       "      <td>1897</td>\n",
       "      <td>08-04-2004</td>\n",
       "      <td>52</td>\n",
       "      <td>3.0</td>\n",
       "      <td>2.0</td>\n",
       "      <td>5</td>\n",
       "      <td>Family</td>\n",
       "      <td>Yes</td>\n",
       "      <td>11-04-1995</td>\n",
       "      <td>Others</td>\n",
       "      <td>NoSeWa</td>\n",
       "      <td>No Access</td>\n",
       "      <td>RH</td>\n",
       "      <td>3.6</td>\n",
       "      <td>4.5</td>\n",
       "      <td>3.3</td>\n",
       "      <td>3.920</td>\n",
       "      <td>346191</td>\n",
       "      <td>205551</td>\n",
       "      <td>10818480</td>\n",
       "    </tr>\n",
       "    <tr>\n",
       "      <th>7106</th>\n",
       "      <td>P09594</td>\n",
       "      <td>Velachery</td>\n",
       "      <td>1614</td>\n",
       "      <td>25-08-2006</td>\n",
       "      <td>152</td>\n",
       "      <td>2.0</td>\n",
       "      <td>1.0</td>\n",
       "      <td>4</td>\n",
       "      <td>Normal Sale</td>\n",
       "      <td>No</td>\n",
       "      <td>01-09-1978</td>\n",
       "      <td>House</td>\n",
       "      <td>NoSeWa</td>\n",
       "      <td>Gravel</td>\n",
       "      <td>I</td>\n",
       "      <td>4.3</td>\n",
       "      <td>4.2</td>\n",
       "      <td>2.9</td>\n",
       "      <td>3.840</td>\n",
       "      <td>317354</td>\n",
       "      <td>167028</td>\n",
       "      <td>8351410</td>\n",
       "    </tr>\n",
       "    <tr>\n",
       "      <th>7107</th>\n",
       "      <td>P06508</td>\n",
       "      <td>Karapakkam</td>\n",
       "      <td>787</td>\n",
       "      <td>03-08-2009</td>\n",
       "      <td>40</td>\n",
       "      <td>1.0</td>\n",
       "      <td>1.0</td>\n",
       "      <td>2</td>\n",
       "      <td>Partial</td>\n",
       "      <td>Yes</td>\n",
       "      <td>11-08-1977</td>\n",
       "      <td>Commercial</td>\n",
       "      <td>ELO</td>\n",
       "      <td>Paved</td>\n",
       "      <td>RL</td>\n",
       "      <td>4.6</td>\n",
       "      <td>3.8</td>\n",
       "      <td>4.1</td>\n",
       "      <td>4.160</td>\n",
       "      <td>425350</td>\n",
       "      <td>119098</td>\n",
       "      <td>8507000</td>\n",
       "    </tr>\n",
       "    <tr>\n",
       "      <th>7108</th>\n",
       "      <td>P09794</td>\n",
       "      <td>Velachery</td>\n",
       "      <td>1896</td>\n",
       "      <td>13-07-2005</td>\n",
       "      <td>156</td>\n",
       "      <td>3.0</td>\n",
       "      <td>2.0</td>\n",
       "      <td>5</td>\n",
       "      <td>Partial</td>\n",
       "      <td>Yes</td>\n",
       "      <td>24-07-1961</td>\n",
       "      <td>Others</td>\n",
       "      <td>ELO</td>\n",
       "      <td>Paved</td>\n",
       "      <td>I</td>\n",
       "      <td>3.1</td>\n",
       "      <td>3.5</td>\n",
       "      <td>4.3</td>\n",
       "      <td>3.640</td>\n",
       "      <td>349177</td>\n",
       "      <td>79812</td>\n",
       "      <td>9976480</td>\n",
       "    </tr>\n",
       "  </tbody>\n",
       "</table>\n",
       "<p>7109 rows × 22 columns</p>\n",
       "</div>"
      ],
      "text/plain": [
       "      PRT_ID        AREA  INT_SQFT   DATE_SALE  DIST_MAINROAD  N_BEDROOM  \\\n",
       "0     P03210  Karapakkam      1004  04-05-2011            131        1.0   \n",
       "1     P09411  Anna Nagar      1986  19-12-2006             26        2.0   \n",
       "2     P01812       Adyar       909  04-02-2012             70        1.0   \n",
       "3     P05346   Velachery      1855  13-03-2010             14        3.0   \n",
       "4     P06210  Karapakkam      1226  05-10-2009             84        1.0   \n",
       "...      ...         ...       ...         ...            ...        ...   \n",
       "7104  P03834  Karapakkam       598  03-01-2011             51        1.0   \n",
       "7105  P10000   Velachery      1897  08-04-2004             52        3.0   \n",
       "7106  P09594   Velachery      1614  25-08-2006            152        2.0   \n",
       "7107  P06508  Karapakkam       787  03-08-2009             40        1.0   \n",
       "7108  P09794   Velachery      1896  13-07-2005            156        3.0   \n",
       "\n",
       "      N_BATHROOM  N_ROOM    SALE_COND PARK_FACIL  DATE_BUILD   BUILDTYPE  \\\n",
       "0            1.0       3     AbNormal        Yes  15-05-1967  Commercial   \n",
       "1            1.0       5     AbNormal         No  22-12-1995  Commercial   \n",
       "2            1.0       3     AbNormal        Yes  09-02-1992  Commercial   \n",
       "3            2.0       5       Family         No  18-03-1988      Others   \n",
       "4            1.0       3     AbNormal        Yes  13-10-1979      Others   \n",
       "...          ...     ...          ...        ...         ...         ...   \n",
       "7104         1.0       2      AdjLand         No  15-01-1962      Others   \n",
       "7105         2.0       5       Family        Yes  11-04-1995      Others   \n",
       "7106         1.0       4  Normal Sale         No  01-09-1978       House   \n",
       "7107         1.0       2      Partial        Yes  11-08-1977  Commercial   \n",
       "7108         2.0       5      Partial        Yes  24-07-1961      Others   \n",
       "\n",
       "     UTILITY_AVAIL     STREET MZZONE  QS_ROOMS  QS_BATHROOM  QS_BEDROOM  \\\n",
       "0           AllPub      Paved      A       4.0          3.9         4.9   \n",
       "1           AllPub     Gravel     RH       4.9          4.2         2.5   \n",
       "2              ELO     Gravel     RL       4.1          3.8         2.2   \n",
       "3          NoSewr       Paved      I       4.7          3.9         3.6   \n",
       "4           AllPub     Gravel      C       3.0          2.5         4.1   \n",
       "...            ...        ...    ...       ...          ...         ...   \n",
       "7104           ELO  No Access     RM       3.0          2.2         2.4   \n",
       "7105        NoSeWa  No Access     RH       3.6          4.5         3.3   \n",
       "7106        NoSeWa     Gravel      I       4.3          4.2         2.9   \n",
       "7107           ELO      Paved     RL       4.6          3.8         4.1   \n",
       "7108           ELO      Paved      I       3.1          3.5         4.3   \n",
       "\n",
       "      QS_OVERALL  REG_FEE  COMMIS  SALES_PRICE  \n",
       "0          4.330   380000  144400      7600000  \n",
       "1          3.765   760122  304049     21717770  \n",
       "2          3.090   421094   92114     13159200  \n",
       "3          4.010   356321   77042      9630290  \n",
       "4          3.290   237000   74063      7406250  \n",
       "...          ...      ...     ...          ...  \n",
       "7104       2.520   208767  107060      5353000  \n",
       "7105       3.920   346191  205551     10818480  \n",
       "7106       3.840   317354  167028      8351410  \n",
       "7107       4.160   425350  119098      8507000  \n",
       "7108       3.640   349177   79812      9976480  \n",
       "\n",
       "[7109 rows x 22 columns]"
      ]
     },
     "execution_count": 3,
     "metadata": {},
     "output_type": "execute_result"
    }
   ],
   "source": [
    "df =pd.read_csv(\"C:/Users/SOWNDARYA/Downloads/Chennai houseing sale.csv\")\n",
    "df"
   ]
  },
  {
   "cell_type": "code",
   "execution_count": 4,
   "id": "492cb1f3",
   "metadata": {},
   "outputs": [
    {
     "name": "stdout",
     "output_type": "stream",
     "text": [
      "<class 'pandas.core.frame.DataFrame'>\n",
      "RangeIndex: 7109 entries, 0 to 7108\n",
      "Data columns (total 22 columns):\n",
      " #   Column         Non-Null Count  Dtype  \n",
      "---  ------         --------------  -----  \n",
      " 0   PRT_ID         7109 non-null   object \n",
      " 1   AREA           7109 non-null   object \n",
      " 2   INT_SQFT       7109 non-null   int64  \n",
      " 3   DATE_SALE      7109 non-null   object \n",
      " 4   DIST_MAINROAD  7109 non-null   int64  \n",
      " 5   N_BEDROOM      7108 non-null   float64\n",
      " 6   N_BATHROOM     7104 non-null   float64\n",
      " 7   N_ROOM         7109 non-null   int64  \n",
      " 8   SALE_COND      7109 non-null   object \n",
      " 9   PARK_FACIL     7109 non-null   object \n",
      " 10  DATE_BUILD     7109 non-null   object \n",
      " 11  BUILDTYPE      7109 non-null   object \n",
      " 12  UTILITY_AVAIL  7109 non-null   object \n",
      " 13  STREET         7109 non-null   object \n",
      " 14  MZZONE         7109 non-null   object \n",
      " 15  QS_ROOMS       7109 non-null   float64\n",
      " 16  QS_BATHROOM    7109 non-null   float64\n",
      " 17  QS_BEDROOM     7109 non-null   float64\n",
      " 18  QS_OVERALL     7061 non-null   float64\n",
      " 19  REG_FEE        7109 non-null   int64  \n",
      " 20  COMMIS         7109 non-null   int64  \n",
      " 21  SALES_PRICE    7109 non-null   int64  \n",
      "dtypes: float64(6), int64(6), object(10)\n",
      "memory usage: 1.2+ MB\n"
     ]
    }
   ],
   "source": [
    "df.info()"
   ]
  },
  {
   "cell_type": "code",
   "execution_count": 5,
   "id": "2f8793ec",
   "metadata": {},
   "outputs": [
    {
     "data": {
      "text/html": [
       "<div>\n",
       "<style scoped>\n",
       "    .dataframe tbody tr th:only-of-type {\n",
       "        vertical-align: middle;\n",
       "    }\n",
       "\n",
       "    .dataframe tbody tr th {\n",
       "        vertical-align: top;\n",
       "    }\n",
       "\n",
       "    .dataframe thead th {\n",
       "        text-align: right;\n",
       "    }\n",
       "</style>\n",
       "<table border=\"1\" class=\"dataframe\">\n",
       "  <thead>\n",
       "    <tr style=\"text-align: right;\">\n",
       "      <th></th>\n",
       "      <th>INT_SQFT</th>\n",
       "      <th>DIST_MAINROAD</th>\n",
       "      <th>N_BEDROOM</th>\n",
       "      <th>N_BATHROOM</th>\n",
       "      <th>N_ROOM</th>\n",
       "      <th>QS_ROOMS</th>\n",
       "      <th>QS_BATHROOM</th>\n",
       "      <th>QS_BEDROOM</th>\n",
       "      <th>QS_OVERALL</th>\n",
       "      <th>REG_FEE</th>\n",
       "      <th>COMMIS</th>\n",
       "      <th>SALES_PRICE</th>\n",
       "    </tr>\n",
       "  </thead>\n",
       "  <tbody>\n",
       "    <tr>\n",
       "      <th>count</th>\n",
       "      <td>7109.000000</td>\n",
       "      <td>7109.000000</td>\n",
       "      <td>7108.000000</td>\n",
       "      <td>7104.000000</td>\n",
       "      <td>7109.000000</td>\n",
       "      <td>7109.000000</td>\n",
       "      <td>7109.000000</td>\n",
       "      <td>7109.000000</td>\n",
       "      <td>7061.000000</td>\n",
       "      <td>7109.000000</td>\n",
       "      <td>7109.000000</td>\n",
       "      <td>7.109000e+03</td>\n",
       "    </tr>\n",
       "    <tr>\n",
       "      <th>mean</th>\n",
       "      <td>1382.073006</td>\n",
       "      <td>99.603179</td>\n",
       "      <td>1.637029</td>\n",
       "      <td>1.213260</td>\n",
       "      <td>3.688704</td>\n",
       "      <td>3.517471</td>\n",
       "      <td>3.507244</td>\n",
       "      <td>3.485300</td>\n",
       "      <td>3.503254</td>\n",
       "      <td>376938.330708</td>\n",
       "      <td>141005.726544</td>\n",
       "      <td>1.089491e+07</td>\n",
       "    </tr>\n",
       "    <tr>\n",
       "      <th>std</th>\n",
       "      <td>457.410902</td>\n",
       "      <td>57.403110</td>\n",
       "      <td>0.802902</td>\n",
       "      <td>0.409639</td>\n",
       "      <td>1.019099</td>\n",
       "      <td>0.891972</td>\n",
       "      <td>0.897834</td>\n",
       "      <td>0.887266</td>\n",
       "      <td>0.527223</td>\n",
       "      <td>143070.662010</td>\n",
       "      <td>78768.093718</td>\n",
       "      <td>3.768603e+06</td>\n",
       "    </tr>\n",
       "    <tr>\n",
       "      <th>min</th>\n",
       "      <td>500.000000</td>\n",
       "      <td>0.000000</td>\n",
       "      <td>1.000000</td>\n",
       "      <td>1.000000</td>\n",
       "      <td>2.000000</td>\n",
       "      <td>2.000000</td>\n",
       "      <td>2.000000</td>\n",
       "      <td>2.000000</td>\n",
       "      <td>2.000000</td>\n",
       "      <td>71177.000000</td>\n",
       "      <td>5055.000000</td>\n",
       "      <td>2.156875e+06</td>\n",
       "    </tr>\n",
       "    <tr>\n",
       "      <th>25%</th>\n",
       "      <td>993.000000</td>\n",
       "      <td>50.000000</td>\n",
       "      <td>1.000000</td>\n",
       "      <td>1.000000</td>\n",
       "      <td>3.000000</td>\n",
       "      <td>2.700000</td>\n",
       "      <td>2.700000</td>\n",
       "      <td>2.700000</td>\n",
       "      <td>3.130000</td>\n",
       "      <td>272406.000000</td>\n",
       "      <td>84219.000000</td>\n",
       "      <td>8.272100e+06</td>\n",
       "    </tr>\n",
       "    <tr>\n",
       "      <th>50%</th>\n",
       "      <td>1373.000000</td>\n",
       "      <td>99.000000</td>\n",
       "      <td>1.000000</td>\n",
       "      <td>1.000000</td>\n",
       "      <td>4.000000</td>\n",
       "      <td>3.500000</td>\n",
       "      <td>3.500000</td>\n",
       "      <td>3.500000</td>\n",
       "      <td>3.500000</td>\n",
       "      <td>349486.000000</td>\n",
       "      <td>127628.000000</td>\n",
       "      <td>1.033505e+07</td>\n",
       "    </tr>\n",
       "    <tr>\n",
       "      <th>75%</th>\n",
       "      <td>1744.000000</td>\n",
       "      <td>148.000000</td>\n",
       "      <td>2.000000</td>\n",
       "      <td>1.000000</td>\n",
       "      <td>4.000000</td>\n",
       "      <td>4.300000</td>\n",
       "      <td>4.300000</td>\n",
       "      <td>4.300000</td>\n",
       "      <td>3.890000</td>\n",
       "      <td>451562.000000</td>\n",
       "      <td>184506.000000</td>\n",
       "      <td>1.299390e+07</td>\n",
       "    </tr>\n",
       "    <tr>\n",
       "      <th>max</th>\n",
       "      <td>2500.000000</td>\n",
       "      <td>200.000000</td>\n",
       "      <td>4.000000</td>\n",
       "      <td>2.000000</td>\n",
       "      <td>6.000000</td>\n",
       "      <td>5.000000</td>\n",
       "      <td>5.000000</td>\n",
       "      <td>5.000000</td>\n",
       "      <td>4.970000</td>\n",
       "      <td>983922.000000</td>\n",
       "      <td>495405.000000</td>\n",
       "      <td>2.366734e+07</td>\n",
       "    </tr>\n",
       "  </tbody>\n",
       "</table>\n",
       "</div>"
      ],
      "text/plain": [
       "          INT_SQFT  DIST_MAINROAD    N_BEDROOM   N_BATHROOM       N_ROOM  \\\n",
       "count  7109.000000    7109.000000  7108.000000  7104.000000  7109.000000   \n",
       "mean   1382.073006      99.603179     1.637029     1.213260     3.688704   \n",
       "std     457.410902      57.403110     0.802902     0.409639     1.019099   \n",
       "min     500.000000       0.000000     1.000000     1.000000     2.000000   \n",
       "25%     993.000000      50.000000     1.000000     1.000000     3.000000   \n",
       "50%    1373.000000      99.000000     1.000000     1.000000     4.000000   \n",
       "75%    1744.000000     148.000000     2.000000     1.000000     4.000000   \n",
       "max    2500.000000     200.000000     4.000000     2.000000     6.000000   \n",
       "\n",
       "          QS_ROOMS  QS_BATHROOM   QS_BEDROOM   QS_OVERALL        REG_FEE  \\\n",
       "count  7109.000000  7109.000000  7109.000000  7061.000000    7109.000000   \n",
       "mean      3.517471     3.507244     3.485300     3.503254  376938.330708   \n",
       "std       0.891972     0.897834     0.887266     0.527223  143070.662010   \n",
       "min       2.000000     2.000000     2.000000     2.000000   71177.000000   \n",
       "25%       2.700000     2.700000     2.700000     3.130000  272406.000000   \n",
       "50%       3.500000     3.500000     3.500000     3.500000  349486.000000   \n",
       "75%       4.300000     4.300000     4.300000     3.890000  451562.000000   \n",
       "max       5.000000     5.000000     5.000000     4.970000  983922.000000   \n",
       "\n",
       "              COMMIS   SALES_PRICE  \n",
       "count    7109.000000  7.109000e+03  \n",
       "mean   141005.726544  1.089491e+07  \n",
       "std     78768.093718  3.768603e+06  \n",
       "min      5055.000000  2.156875e+06  \n",
       "25%     84219.000000  8.272100e+06  \n",
       "50%    127628.000000  1.033505e+07  \n",
       "75%    184506.000000  1.299390e+07  \n",
       "max    495405.000000  2.366734e+07  "
      ]
     },
     "execution_count": 5,
     "metadata": {},
     "output_type": "execute_result"
    }
   ],
   "source": [
    "df.describe()"
   ]
  },
  {
   "cell_type": "markdown",
   "id": "088aba75",
   "metadata": {},
   "source": [
    "## checking for missing values"
   ]
  },
  {
   "cell_type": "code",
   "execution_count": 6,
   "id": "e3defdb9",
   "metadata": {},
   "outputs": [
    {
     "data": {
      "text/plain": [
       "PRT_ID            0\n",
       "AREA              0\n",
       "INT_SQFT          0\n",
       "DATE_SALE         0\n",
       "DIST_MAINROAD     0\n",
       "N_BEDROOM         1\n",
       "N_BATHROOM        5\n",
       "N_ROOM            0\n",
       "SALE_COND         0\n",
       "PARK_FACIL        0\n",
       "DATE_BUILD        0\n",
       "BUILDTYPE         0\n",
       "UTILITY_AVAIL     0\n",
       "STREET            0\n",
       "MZZONE            0\n",
       "QS_ROOMS          0\n",
       "QS_BATHROOM       0\n",
       "QS_BEDROOM        0\n",
       "QS_OVERALL       48\n",
       "REG_FEE           0\n",
       "COMMIS            0\n",
       "SALES_PRICE       0\n",
       "dtype: int64"
      ]
     },
     "execution_count": 6,
     "metadata": {},
     "output_type": "execute_result"
    }
   ],
   "source": [
    "df.isnull().sum()"
   ]
  },
  {
   "cell_type": "markdown",
   "id": "7d8f8334",
   "metadata": {},
   "source": [
    "there are null values.we can simply replace with the mean value of the column using simple imputer."
   ]
  },
  {
   "cell_type": "code",
   "execution_count": 7,
   "id": "e38b6185",
   "metadata": {},
   "outputs": [],
   "source": [
    "from sklearn.impute import SimpleImputer\n",
    "imputer = SimpleImputer(missing_values=np.nan,strategy ='mean',fill_value =None)\n",
    "df['N_BEDROOM'] = imputer.fit_transform(df[['N_BEDROOM']])\n",
    "df['N_BATHROOM'] = imputer.fit_transform(df[['N_BATHROOM']])\n",
    "df['QS_OVERALL'] = imputer.fit_transform(df[['QS_OVERALL']])"
   ]
  },
  {
   "cell_type": "code",
   "execution_count": 8,
   "id": "a0cac733",
   "metadata": {},
   "outputs": [
    {
     "data": {
      "text/plain": [
       "PRT_ID           0\n",
       "AREA             0\n",
       "INT_SQFT         0\n",
       "DATE_SALE        0\n",
       "DIST_MAINROAD    0\n",
       "N_BEDROOM        0\n",
       "N_BATHROOM       0\n",
       "N_ROOM           0\n",
       "SALE_COND        0\n",
       "PARK_FACIL       0\n",
       "DATE_BUILD       0\n",
       "BUILDTYPE        0\n",
       "UTILITY_AVAIL    0\n",
       "STREET           0\n",
       "MZZONE           0\n",
       "QS_ROOMS         0\n",
       "QS_BATHROOM      0\n",
       "QS_BEDROOM       0\n",
       "QS_OVERALL       0\n",
       "REG_FEE          0\n",
       "COMMIS           0\n",
       "SALES_PRICE      0\n",
       "dtype: int64"
      ]
     },
     "execution_count": 8,
     "metadata": {},
     "output_type": "execute_result"
    }
   ],
   "source": [
    "df.isnull().sum()"
   ]
  },
  {
   "cell_type": "code",
   "execution_count": 9,
   "id": "086d8ef3",
   "metadata": {},
   "outputs": [
    {
     "data": {
      "text/plain": [
       "PRT_ID           7109\n",
       "AREA               17\n",
       "INT_SQFT         1699\n",
       "DATE_SALE        2798\n",
       "DIST_MAINROAD     201\n",
       "N_BEDROOM           5\n",
       "N_BATHROOM          3\n",
       "N_ROOM              5\n",
       "SALE_COND           9\n",
       "PARK_FACIL          3\n",
       "DATE_BUILD       5808\n",
       "BUILDTYPE           5\n",
       "UTILITY_AVAIL       5\n",
       "STREET              5\n",
       "MZZONE              6\n",
       "QS_ROOMS           31\n",
       "QS_BATHROOM        31\n",
       "QS_BEDROOM         31\n",
       "QS_OVERALL        480\n",
       "REG_FEE          7038\n",
       "COMMIS           7011\n",
       "SALES_PRICE      7057\n",
       "dtype: int64"
      ]
     },
     "execution_count": 9,
     "metadata": {},
     "output_type": "execute_result"
    }
   ],
   "source": [
    "df.nunique()"
   ]
  },
  {
   "cell_type": "markdown",
   "id": "4e07edfa",
   "metadata": {},
   "source": [
    "## Feature Engineering"
   ]
  },
  {
   "cell_type": "code",
   "execution_count": 10,
   "id": "d0af980a",
   "metadata": {},
   "outputs": [
    {
     "data": {
      "text/plain": [
       "PRT_ID            object\n",
       "AREA              object\n",
       "INT_SQFT           int64\n",
       "DATE_SALE         object\n",
       "DIST_MAINROAD      int64\n",
       "N_BEDROOM        float64\n",
       "N_BATHROOM       float64\n",
       "N_ROOM             int64\n",
       "SALE_COND         object\n",
       "PARK_FACIL        object\n",
       "DATE_BUILD        object\n",
       "BUILDTYPE         object\n",
       "UTILITY_AVAIL     object\n",
       "STREET            object\n",
       "MZZONE            object\n",
       "QS_ROOMS         float64\n",
       "QS_BATHROOM      float64\n",
       "QS_BEDROOM       float64\n",
       "QS_OVERALL       float64\n",
       "REG_FEE            int64\n",
       "COMMIS             int64\n",
       "SALES_PRICE        int64\n",
       "dtype: object"
      ]
     },
     "execution_count": 10,
     "metadata": {},
     "output_type": "execute_result"
    }
   ],
   "source": [
    "df.dtypes"
   ]
  },
  {
   "cell_type": "markdown",
   "id": "7e6d68c0",
   "metadata": {},
   "source": [
    "DATE_SALE,DATE_BUILD are the columns which contains the property sold/built date's. As we can observe the data type of the elements in those columns are 'object' So it's necessary to convert those two columns into the type 'datetime64' type."
   ]
  },
  {
   "cell_type": "code",
   "execution_count": 11,
   "id": "4bc7b814",
   "metadata": {},
   "outputs": [],
   "source": [
    "df['DATE_SALE'] = pd.to_datetime(df['DATE_SALE'])\n",
    "df['DATE_BUILD'] =pd.to_datetime(df['DATE_BUILD'])"
   ]
  },
  {
   "cell_type": "code",
   "execution_count": 12,
   "id": "09e21106",
   "metadata": {},
   "outputs": [],
   "source": [
    "df['age'] = pd.DatetimeIndex(df['DATE_SALE']).year -pd.DatetimeIndex(df['DATE_BUILD']).year"
   ]
  },
  {
   "cell_type": "markdown",
   "id": "02eeb217",
   "metadata": {},
   "source": [
    "lets see unique value of the column"
   ]
  },
  {
   "cell_type": "code",
   "execution_count": 13,
   "id": "8779045d",
   "metadata": {},
   "outputs": [
    {
     "name": "stdout",
     "output_type": "stream",
     "text": [
      "PRT_ID\n",
      "['P03210' 'P09411' 'P01812' ... 'P09594' 'P06508' 'P09794']\n",
      "AREA\n",
      "['Karapakkam' 'Anna Nagar' 'Adyar' 'Velachery' 'Chrompet' 'KK Nagar'\n",
      " 'TNagar' 'T Nagar' 'Chrompt' 'Chrmpet' 'Karapakam' 'Ana Nagar' 'Chormpet'\n",
      " 'Adyr' 'Velchery' 'Ann Nagar' 'KKNagar']\n",
      "SALE_COND\n",
      "['AbNormal' 'Family' 'Partial' 'AdjLand' 'Normal Sale' 'Ab Normal'\n",
      " 'Partiall' 'Adj Land' 'PartiaLl']\n",
      "PARK_FACIL\n",
      "['Yes' 'No' 'Noo']\n",
      "BUILDTYPE\n",
      "['Commercial' 'Others' 'Other' 'House' 'Comercial']\n",
      "UTILITY_AVAIL\n",
      "['AllPub' 'ELO' 'NoSewr ' 'NoSeWa' 'All Pub']\n",
      "STREET\n",
      "['Paved' 'Gravel' 'No Access' 'Pavd' 'NoAccess']\n",
      "MZZONE\n",
      "['A' 'RH' 'RL' 'I' 'C' 'RM']\n"
     ]
    }
   ],
   "source": [
    "for col in df.columns:\n",
    "    if df[col].dtype =='object':\n",
    "        print(col)\n",
    "        print(df[col].unique())"
   ]
  },
  {
   "cell_type": "markdown",
   "id": "38b80a44",
   "metadata": {},
   "source": [
    "here we can see that lots of spelling mistakes.hence we need to correct them before model building.otherwise it create more no of columns while encoding the data during data preprocessing steps."
   ]
  },
  {
   "cell_type": "code",
   "execution_count": 50,
   "id": "304f790a",
   "metadata": {},
   "outputs": [],
   "source": [
    "## cleaning the data\n",
    "df.AREA.replace('Karapakkam','Karapakam',inplace=True)\n",
    "\n",
    "\n",
    "\n",
    "\n",
    "df.AREA.replace(['Ana Nagar','Ann Nagar'],'Anna Nagar',inplace=True)\n",
    "df.AREA.replace(['Adyr'],'Adyar',inplace=True)\n",
    "df.AREA.replace(['Velchery'],'Velachery',inplace=True)\n",
    "df.AREA.replace(['KKNagar'],'KK Nagar',inplace=True)\n",
    "df.AREA.replace(['Chormpet','Chrmpet'],'Chrompet',inplace= True)\n",
    "df.AREA.replace(['TNagar'],'T Nagar',inplace = True)\n"
   ]
  },
  {
   "cell_type": "code",
   "execution_count": 51,
   "id": "58cfa3ac",
   "metadata": {},
   "outputs": [],
   "source": [
    "df.SALE_COND.replace('Ab Normal','AbNormal',inplace=True)\n",
    "df.SALE_COND.replace('Adj Land','AdjLand',inplace=True)\n",
    "df.SALE_COND.replace(['PartiaLl','Partiall'],'Partial',inplace=True)"
   ]
  },
  {
   "cell_type": "code",
   "execution_count": 52,
   "id": "60b354aa",
   "metadata": {},
   "outputs": [],
   "source": [
    "df.PARK_FACIL.replace('Noo','No',inplace=True)"
   ]
  },
  {
   "cell_type": "code",
   "execution_count": 53,
   "id": "cbdd94aa",
   "metadata": {},
   "outputs": [],
   "source": [
    "df.BUILDTYPE.replace('Comercial','Commercial',inplace=True)\n",
    "df.BUILDTYPE.replace('Other','Others',inplace=True)\n"
   ]
  },
  {
   "cell_type": "code",
   "execution_count": 63,
   "id": "b6c0dc3e",
   "metadata": {},
   "outputs": [],
   "source": [
    "df.UTILITY_AVAIL.replace('AllPub','All Pub',inplace=True)\n",
    "df.UTILITY_AVAIL.replace('NoSewr','NoSeWa',inplace=True)\n"
   ]
  },
  {
   "cell_type": "code",
   "execution_count": 64,
   "id": "14626a1f",
   "metadata": {},
   "outputs": [],
   "source": [
    "df.STREET.replace('Pavd','Paved',inplace=True)\n",
    "df.STREET.replace('NoAccess','No Access',inplace=True)"
   ]
  },
  {
   "cell_type": "code",
   "execution_count": 65,
   "id": "9cbd60af",
   "metadata": {},
   "outputs": [
    {
     "name": "stdout",
     "output_type": "stream",
     "text": [
      "PRT_ID\n",
      "['P03210' 'P09411' 'P01812' ... 'P09594' 'P06508' 'P09794']\n",
      "AREA\n",
      "['Karapakam' 'Anna Nagar' 'Adyar' 'Velachery' 'Chrompet' 'KK Nagar'\n",
      " 'T Nagar' 'Chrompt']\n",
      "SALE_COND\n",
      "['AbNormal' 'Family' 'Partial' 'AdjLand' 'Normal Sale']\n",
      "PARK_FACIL\n",
      "['Yes' 'No']\n",
      "BUILDTYPE\n",
      "['Commercial' 'Others' 'House']\n",
      "UTILITY_AVAIL\n",
      "['All Pub' 'ELO' 'NoSeWa']\n",
      "STREET\n",
      "['Paved' 'Gravel' 'No Access']\n",
      "MZZONE\n",
      "['A' 'RH' 'RL' 'I' 'C' 'RM']\n"
     ]
    }
   ],
   "source": [
    "for col in df.columns:\n",
    "    if df[col].dtype =='object':\n",
    "        print(col)\n",
    "        print(df[col].unique())"
   ]
  },
  {
   "cell_type": "markdown",
   "id": "327a1099",
   "metadata": {},
   "source": [
    "## checking for outliers"
   ]
  },
  {
   "cell_type": "code",
   "execution_count": 66,
   "id": "3567cda0",
   "metadata": {},
   "outputs": [
    {
     "data": {
      "text/plain": [
       "<AxesSubplot:xlabel='SALES_PRICE'>"
      ]
     },
     "execution_count": 66,
     "metadata": {},
     "output_type": "execute_result"
    },
    {
     "data": {
      "image/png": "[encoded data removed]",
      "text/plain": [
       "<Figure size 864x576 with 1 Axes>"
      ]
     },
     "metadata": {
      "needs_background": "light"
     },
     "output_type": "display_data"
    }
   ],
   "source": [
    "plt.figure(figsize=(12,8))\n",
    "sns.boxplot(df.SALES_PRICE )"
   ]
  },
  {
   "cell_type": "markdown",
   "id": "7d450eed",
   "metadata": {},
   "source": [
    "here we can see lot of outliers hence we can remove the outliers using quantile method"
   ]
  },
  {
   "cell_type": "code",
   "execution_count": 67,
   "id": "b67809c6",
   "metadata": {},
   "outputs": [],
   "source": [
    "iqr = df.SALES_PRICE.quantile(0.75) - df.SALES_PRICE.quantile(0.25)"
   ]
  },
  {
   "cell_type": "code",
   "execution_count": 68,
   "id": "626c0d98",
   "metadata": {},
   "outputs": [
    {
     "data": {
      "text/plain": [
       "20076600.0"
      ]
     },
     "execution_count": 68,
     "metadata": {},
     "output_type": "execute_result"
    }
   ],
   "source": [
    "UL = df.SALES_PRICE.quantile(0.75) + 1.5 *iqr\n",
    "UL"
   ]
  },
  {
   "cell_type": "code",
   "execution_count": 69,
   "id": "cb7f611f",
   "metadata": {},
   "outputs": [],
   "source": [
    " df1 =df[df.SALES_PRICE <UL]"
   ]
  },
  {
   "cell_type": "markdown",
   "id": "7b9e072c",
   "metadata": {},
   "source": [
    "## Exploratory Data Analysis"
   ]
  },
  {
   "cell_type": "code",
   "execution_count": 70,
   "id": "8bb57817",
   "metadata": {},
   "outputs": [
    {
     "data": {
      "image/png": "[encoded data removed]",
      "text/plain": [
       "<Figure size 1080x576 with 1 Axes>"
      ]
     },
     "metadata": {
      "needs_background": "light"
     },
     "output_type": "display_data"
    }
   ],
   "source": [
    "plt.figure(figsize=(15,8))\n",
    "sns.barplot(x=df1.AREA,y=df1.SALES_PRICE)\n",
    "plt.xlabel('AREA',fontsize=20)\n",
    "plt.ylabel('SALES_PRICE',fontsize=20)\n",
    "plt.xticks(fontsize=15,rotation=30)\n",
    "plt.yticks(fontsize=15)\n",
    "plt.title('AREA VS SALES_PRICE',fontsize=20)\n",
    "plt.show()\n"
   ]
  },
  {
   "cell_type": "markdown",
   "id": "f43d114c",
   "metadata": {},
   "source": [
    "from the above plot we can clearly see that which area houses are more sales_price compared to others.\n",
    "here anna nagar and T nagar houses are having high sales price."
   ]
  },
  {
   "cell_type": "code",
   "execution_count": 71,
   "id": "d383896c",
   "metadata": {},
   "outputs": [
    {
     "data": {
      "text/plain": [
       "Text(0, 0.5, 'SALES_PRICE')"
      ]
     },
     "execution_count": 71,
     "metadata": {},
     "output_type": "execute_result"
    },
    {
     "data": {
      "image/png": "[encoded data removed]",
      "text/plain": [
       "<Figure size 432x288 with 1 Axes>"
      ]
     },
     "metadata": {
      "needs_background": "light"
     },
     "output_type": "display_data"
    }
   ],
   "source": [
    "sns.scatterplot(x='INT_SQFT',y='SALES_PRICE',data=df1)\n",
    "plt.xlabel('INT_SQFT',fontsize=15)\n",
    "plt.ylabel('SALES_PRICE',fontsize=15)"
   ]
  },
  {
   "cell_type": "code",
   "execution_count": 72,
   "id": "edfa4855",
   "metadata": {},
   "outputs": [
    {
     "name": "stdout",
     "output_type": "stream",
     "text": [
      "<class 'pandas.core.frame.DataFrame'>\n",
      "Int64Index: 6881 entries, 0 to 7108\n",
      "Data columns (total 23 columns):\n",
      " #   Column         Non-Null Count  Dtype         \n",
      "---  ------         --------------  -----         \n",
      " 0   PRT_ID         6881 non-null   object        \n",
      " 1   AREA           6881 non-null   object        \n",
      " 2   INT_SQFT       6881 non-null   int64         \n",
      " 3   DATE_SALE      6881 non-null   datetime64[ns]\n",
      " 4   DIST_MAINROAD  6881 non-null   int64         \n",
      " 5   N_BEDROOM      6881 non-null   float64       \n",
      " 6   N_BATHROOM     6881 non-null   float64       \n",
      " 7   N_ROOM         6881 non-null   int64         \n",
      " 8   SALE_COND      6881 non-null   object        \n",
      " 9   PARK_FACIL     6881 non-null   object        \n",
      " 10  DATE_BUILD     6881 non-null   datetime64[ns]\n",
      " 11  BUILDTYPE      6881 non-null   object        \n",
      " 12  UTILITY_AVAIL  6881 non-null   object        \n",
      " 13  STREET         6881 non-null   object        \n",
      " 14  MZZONE         6881 non-null   object        \n",
      " 15  QS_ROOMS       6881 non-null   float64       \n",
      " 16  QS_BATHROOM    6881 non-null   float64       \n",
      " 17  QS_BEDROOM     6881 non-null   float64       \n",
      " 18  QS_OVERALL     6881 non-null   float64       \n",
      " 19  REG_FEE        6881 non-null   int64         \n",
      " 20  COMMIS         6881 non-null   int64         \n",
      " 21  SALES_PRICE    6881 non-null   int64         \n",
      " 22  age            6881 non-null   int64         \n",
      "dtypes: datetime64[ns](2), float64(6), int64(7), object(8)\n",
      "memory usage: 1.3+ MB\n"
     ]
    }
   ],
   "source": [
    "df1.info()"
   ]
  },
  {
   "cell_type": "code",
   "execution_count": 73,
   "id": "c74157f7",
   "metadata": {},
   "outputs": [
    {
     "data": {
      "text/plain": [
       "<AxesSubplot:xlabel='age', ylabel='SALES_PRICE'>"
      ]
     },
     "execution_count": 73,
     "metadata": {},
     "output_type": "execute_result"
    },
    {
     "data": {
      "image/png": "[encoded data removed]",
      "text/plain": [
       "<Figure size 432x288 with 1 Axes>"
      ]
     },
     "metadata": {
      "needs_background": "light"
     },
     "output_type": "display_data"
    }
   ],
   "source": [
    "sns.scatterplot(x='age',y='SALES_PRICE',data=df1)"
   ]
  },
  {
   "cell_type": "markdown",
   "id": "4315588c",
   "metadata": {},
   "source": [
    "here we can observe that square feet of the house and sales price are linearly depended to each other.\n",
    "so we conclude that square feet of the house have strong relationship sales price. "
   ]
  },
  {
   "cell_type": "code",
   "execution_count": 74,
   "id": "698317d6",
   "metadata": {},
   "outputs": [
    {
     "data": {
      "text/plain": [
       "<AxesSubplot:xlabel='N_BEDROOM', ylabel='SALES_PRICE'>"
      ]
     },
     "execution_count": 74,
     "metadata": {},
     "output_type": "execute_result"
    },
    {
     "data": {
      "image/png": "[encoded data removed]",
      "text/plain": [
       "<Figure size 432x288 with 1 Axes>"
      ]
     },
     "metadata": {
      "needs_background": "light"
     },
     "output_type": "display_data"
    }
   ],
   "source": [
    "sns.scatterplot(x='N_BEDROOM',y='SALES_PRICE',data=df1)"
   ]
  },
  {
   "cell_type": "code",
   "execution_count": 75,
   "id": "c4583059",
   "metadata": {},
   "outputs": [],
   "source": [
    "vcorr=df1.corr()"
   ]
  },
  {
   "cell_type": "code",
   "execution_count": 76,
   "id": "7b583b49",
   "metadata": {},
   "outputs": [
    {
     "data": {
      "text/plain": [
       "<AxesSubplot:>"
      ]
     },
     "execution_count": 76,
     "metadata": {},
     "output_type": "execute_result"
    },
    {
     "data": {
      "image/png": "[encoded data removed]",
      "text/plain": [
       "<Figure size 1440x720 with 2 Axes>"
      ]
     },
     "metadata": {
      "needs_background": "light"
     },
     "output_type": "display_data"
    }
   ],
   "source": [
    "plt.figure(figsize=(20,10))\n",
    "sns.heatmap(vcorr[(vcorr>0.80)|(vcorr <-80)],annot=True)"
   ]
  },
  {
   "cell_type": "markdown",
   "id": "1c2d7cf9",
   "metadata": {},
   "source": [
    "from the above correlation map we can observe that 'REG_FEE' positively correlated to our target'sales_price'and N_BEDROOM and 'N_ROOM'  are correlated to each other and also \n",
    "'INT_SQFT'  and 'N_ROOM' are correlated to each other.hence simply drop the columns which are highly corrlated to eachother for the better prediction."
   ]
  },
  {
   "cell_type": "markdown",
   "id": "ba234c8d",
   "metadata": {},
   "source": [
    "## preprocessing"
   ]
  },
  {
   "cell_type": "code",
   "execution_count": 77,
   "id": "75c570b7",
   "metadata": {},
   "outputs": [],
   "source": [
    "from sklearn.preprocessing import LabelEncoder\n"
   ]
  },
  {
   "cell_type": "code",
   "execution_count": 78,
   "id": "792cee3c",
   "metadata": {},
   "outputs": [],
   "source": [
    "le = LabelEncoder()\n",
    "for col in df1.columns:\n",
    "    if df1[col].dtype=='object':\n",
    "        df1[col] =le.fit_transform(df1[col])\n"
   ]
  },
  {
   "cell_type": "code",
   "execution_count": 79,
   "id": "54b33bd1",
   "metadata": {},
   "outputs": [
    {
     "data": {
      "text/html": [
       "<div>\n",
       "<style scoped>\n",
       "    .dataframe tbody tr th:only-of-type {\n",
       "        vertical-align: middle;\n",
       "    }\n",
       "\n",
       "    .dataframe tbody tr th {\n",
       "        vertical-align: top;\n",
       "    }\n",
       "\n",
       "    .dataframe thead th {\n",
       "        text-align: right;\n",
       "    }\n",
       "</style>\n",
       "<table border=\"1\" class=\"dataframe\">\n",
       "  <thead>\n",
       "    <tr style=\"text-align: right;\">\n",
       "      <th></th>\n",
       "      <th>PRT_ID</th>\n",
       "      <th>AREA</th>\n",
       "      <th>INT_SQFT</th>\n",
       "      <th>DATE_SALE</th>\n",
       "      <th>DIST_MAINROAD</th>\n",
       "      <th>N_BEDROOM</th>\n",
       "      <th>N_BATHROOM</th>\n",
       "      <th>N_ROOM</th>\n",
       "      <th>SALE_COND</th>\n",
       "      <th>PARK_FACIL</th>\n",
       "      <th>DATE_BUILD</th>\n",
       "      <th>BUILDTYPE</th>\n",
       "      <th>UTILITY_AVAIL</th>\n",
       "      <th>STREET</th>\n",
       "      <th>MZZONE</th>\n",
       "      <th>QS_ROOMS</th>\n",
       "      <th>QS_BATHROOM</th>\n",
       "      <th>QS_BEDROOM</th>\n",
       "      <th>QS_OVERALL</th>\n",
       "      <th>REG_FEE</th>\n",
       "      <th>COMMIS</th>\n",
       "      <th>SALES_PRICE</th>\n",
       "      <th>age</th>\n",
       "    </tr>\n",
       "  </thead>\n",
       "  <tbody>\n",
       "    <tr>\n",
       "      <th>0</th>\n",
       "      <td>2177</td>\n",
       "      <td>5</td>\n",
       "      <td>1004</td>\n",
       "      <td>2011-04-05</td>\n",
       "      <td>131</td>\n",
       "      <td>1.0</td>\n",
       "      <td>1.0</td>\n",
       "      <td>3</td>\n",
       "      <td>0</td>\n",
       "      <td>1</td>\n",
       "      <td>1967-05-15</td>\n",
       "      <td>0</td>\n",
       "      <td>0</td>\n",
       "      <td>2</td>\n",
       "      <td>0</td>\n",
       "      <td>4.0</td>\n",
       "      <td>3.9</td>\n",
       "      <td>4.9</td>\n",
       "      <td>4.33</td>\n",
       "      <td>380000</td>\n",
       "      <td>144400</td>\n",
       "      <td>7600000</td>\n",
       "      <td>44</td>\n",
       "    </tr>\n",
       "    <tr>\n",
       "      <th>2</th>\n",
       "      <td>1199</td>\n",
       "      <td>0</td>\n",
       "      <td>909</td>\n",
       "      <td>2012-04-02</td>\n",
       "      <td>70</td>\n",
       "      <td>1.0</td>\n",
       "      <td>1.0</td>\n",
       "      <td>3</td>\n",
       "      <td>0</td>\n",
       "      <td>1</td>\n",
       "      <td>1992-09-02</td>\n",
       "      <td>0</td>\n",
       "      <td>1</td>\n",
       "      <td>0</td>\n",
       "      <td>4</td>\n",
       "      <td>4.1</td>\n",
       "      <td>3.8</td>\n",
       "      <td>2.2</td>\n",
       "      <td>3.09</td>\n",
       "      <td>421094</td>\n",
       "      <td>92114</td>\n",
       "      <td>13159200</td>\n",
       "      <td>20</td>\n",
       "    </tr>\n",
       "    <tr>\n",
       "      <th>3</th>\n",
       "      <td>3640</td>\n",
       "      <td>7</td>\n",
       "      <td>1855</td>\n",
       "      <td>2010-03-13</td>\n",
       "      <td>14</td>\n",
       "      <td>3.0</td>\n",
       "      <td>2.0</td>\n",
       "      <td>5</td>\n",
       "      <td>2</td>\n",
       "      <td>0</td>\n",
       "      <td>1988-03-18</td>\n",
       "      <td>2</td>\n",
       "      <td>2</td>\n",
       "      <td>2</td>\n",
       "      <td>2</td>\n",
       "      <td>4.7</td>\n",
       "      <td>3.9</td>\n",
       "      <td>3.6</td>\n",
       "      <td>4.01</td>\n",
       "      <td>356321</td>\n",
       "      <td>77042</td>\n",
       "      <td>9630290</td>\n",
       "      <td>22</td>\n",
       "    </tr>\n",
       "    <tr>\n",
       "      <th>4</th>\n",
       "      <td>4260</td>\n",
       "      <td>5</td>\n",
       "      <td>1226</td>\n",
       "      <td>2009-05-10</td>\n",
       "      <td>84</td>\n",
       "      <td>1.0</td>\n",
       "      <td>1.0</td>\n",
       "      <td>3</td>\n",
       "      <td>0</td>\n",
       "      <td>1</td>\n",
       "      <td>1979-10-13</td>\n",
       "      <td>2</td>\n",
       "      <td>0</td>\n",
       "      <td>0</td>\n",
       "      <td>1</td>\n",
       "      <td>3.0</td>\n",
       "      <td>2.5</td>\n",
       "      <td>4.1</td>\n",
       "      <td>3.29</td>\n",
       "      <td>237000</td>\n",
       "      <td>74063</td>\n",
       "      <td>7406250</td>\n",
       "      <td>30</td>\n",
       "    </tr>\n",
       "    <tr>\n",
       "      <th>5</th>\n",
       "      <td>144</td>\n",
       "      <td>2</td>\n",
       "      <td>1220</td>\n",
       "      <td>2014-11-09</td>\n",
       "      <td>36</td>\n",
       "      <td>2.0</td>\n",
       "      <td>1.0</td>\n",
       "      <td>4</td>\n",
       "      <td>4</td>\n",
       "      <td>0</td>\n",
       "      <td>2009-12-09</td>\n",
       "      <td>0</td>\n",
       "      <td>2</td>\n",
       "      <td>1</td>\n",
       "      <td>3</td>\n",
       "      <td>4.5</td>\n",
       "      <td>2.6</td>\n",
       "      <td>3.1</td>\n",
       "      <td>3.32</td>\n",
       "      <td>409027</td>\n",
       "      <td>198316</td>\n",
       "      <td>12394750</td>\n",
       "      <td>5</td>\n",
       "    </tr>\n",
       "  </tbody>\n",
       "</table>\n",
       "</div>"
      ],
      "text/plain": [
       "   PRT_ID  AREA  INT_SQFT  DATE_SALE  DIST_MAINROAD  N_BEDROOM  N_BATHROOM  \\\n",
       "0    2177     5      1004 2011-04-05            131        1.0         1.0   \n",
       "2    1199     0       909 2012-04-02             70        1.0         1.0   \n",
       "3    3640     7      1855 2010-03-13             14        3.0         2.0   \n",
       "4    4260     5      1226 2009-05-10             84        1.0         1.0   \n",
       "5     144     2      1220 2014-11-09             36        2.0         1.0   \n",
       "\n",
       "   N_ROOM  SALE_COND  PARK_FACIL DATE_BUILD  BUILDTYPE  UTILITY_AVAIL  STREET  \\\n",
       "0       3          0           1 1967-05-15          0              0       2   \n",
       "2       3          0           1 1992-09-02          0              1       0   \n",
       "3       5          2           0 1988-03-18          2              2       2   \n",
       "4       3          0           1 1979-10-13          2              0       0   \n",
       "5       4          4           0 2009-12-09          0              2       1   \n",
       "\n",
       "   MZZONE  QS_ROOMS  QS_BATHROOM  QS_BEDROOM  QS_OVERALL  REG_FEE  COMMIS  \\\n",
       "0       0       4.0          3.9         4.9        4.33   380000  144400   \n",
       "2       4       4.1          3.8         2.2        3.09   421094   92114   \n",
       "3       2       4.7          3.9         3.6        4.01   356321   77042   \n",
       "4       1       3.0          2.5         4.1        3.29   237000   74063   \n",
       "5       3       4.5          2.6         3.1        3.32   409027  198316   \n",
       "\n",
       "   SALES_PRICE  age  \n",
       "0      7600000   44  \n",
       "2     13159200   20  \n",
       "3      9630290   22  \n",
       "4      7406250   30  \n",
       "5     12394750    5  "
      ]
     },
     "execution_count": 79,
     "metadata": {},
     "output_type": "execute_result"
    }
   ],
   "source": [
    "df1.head()"
   ]
  },
  {
   "cell_type": "markdown",
   "id": "1db0acf8",
   "metadata": {},
   "source": [
    "## scaling the data"
   ]
  },
  {
   "cell_type": "code",
   "execution_count": 85,
   "id": "c7056109",
   "metadata": {},
   "outputs": [],
   "source": [
    "from sklearn.preprocessing import StandardScaler\n",
    "for col in df1.columns:\n",
    "    sc = StandardScaler()\n",
    "    df1[col] = sc.fit_transform(df1[[col]])\n"
   ]
  },
  {
   "cell_type": "code",
   "execution_count": 86,
   "id": "d129b6b2",
   "metadata": {},
   "outputs": [
    {
     "data": {
      "text/html": [
       "<div>\n",
       "<style scoped>\n",
       "    .dataframe tbody tr th:only-of-type {\n",
       "        vertical-align: middle;\n",
       "    }\n",
       "\n",
       "    .dataframe tbody tr th {\n",
       "        vertical-align: top;\n",
       "    }\n",
       "\n",
       "    .dataframe thead th {\n",
       "        text-align: right;\n",
       "    }\n",
       "</style>\n",
       "<table border=\"1\" class=\"dataframe\">\n",
       "  <thead>\n",
       "    <tr style=\"text-align: right;\">\n",
       "      <th></th>\n",
       "      <th>PRT_ID</th>\n",
       "      <th>AREA</th>\n",
       "      <th>INT_SQFT</th>\n",
       "      <th>DATE_SALE</th>\n",
       "      <th>DIST_MAINROAD</th>\n",
       "      <th>N_BEDROOM</th>\n",
       "      <th>N_BATHROOM</th>\n",
       "      <th>N_ROOM</th>\n",
       "      <th>SALE_COND</th>\n",
       "      <th>PARK_FACIL</th>\n",
       "      <th>DATE_BUILD</th>\n",
       "      <th>BUILDTYPE</th>\n",
       "      <th>UTILITY_AVAIL</th>\n",
       "      <th>STREET</th>\n",
       "      <th>MZZONE</th>\n",
       "      <th>QS_ROOMS</th>\n",
       "      <th>QS_BATHROOM</th>\n",
       "      <th>QS_BEDROOM</th>\n",
       "      <th>QS_OVERALL</th>\n",
       "      <th>REG_FEE</th>\n",
       "      <th>COMMIS</th>\n",
       "      <th>SALES_PRICE</th>\n",
       "      <th>age</th>\n",
       "    </tr>\n",
       "  </thead>\n",
       "  <tbody>\n",
       "    <tr>\n",
       "      <th>0</th>\n",
       "      <td>-0.635832</td>\n",
       "      <td>0.657982</td>\n",
       "      <td>-0.794565</td>\n",
       "      <td>0.456979</td>\n",
       "      <td>0.549568</td>\n",
       "      <td>-0.780866</td>\n",
       "      <td>-0.530879</td>\n",
       "      <td>-0.644793</td>\n",
       "      <td>-1.417159</td>\n",
       "      <td>0.999855</td>\n",
       "      <td>-1.465552</td>\n",
       "      <td>-1.289017</td>\n",
       "      <td>-1.486077</td>\n",
       "      <td>1.173420</td>\n",
       "      <td>-2.180650</td>\n",
       "      <td>0.543689</td>\n",
       "      <td>0.437148</td>\n",
       "      <td>1.595613</td>\n",
       "      <td>1.576044</td>\n",
       "      <td>0.108609</td>\n",
       "      <td>0.097329</td>\n",
       "      <td>-0.891253</td>\n",
       "      <td>1.593438</td>\n",
       "    </tr>\n",
       "    <tr>\n",
       "      <th>2</th>\n",
       "      <td>-1.128187</td>\n",
       "      <td>-1.549946</td>\n",
       "      <td>-1.003138</td>\n",
       "      <td>0.909258</td>\n",
       "      <td>-0.511749</td>\n",
       "      <td>-0.780866</td>\n",
       "      <td>-0.530879</td>\n",
       "      <td>-0.644793</td>\n",
       "      <td>-1.417159</td>\n",
       "      <td>0.999855</td>\n",
       "      <td>0.532399</td>\n",
       "      <td>-1.289017</td>\n",
       "      <td>-0.307323</td>\n",
       "      <td>-1.193370</td>\n",
       "      <td>0.474524</td>\n",
       "      <td>0.655843</td>\n",
       "      <td>0.325736</td>\n",
       "      <td>-1.446899</td>\n",
       "      <td>-0.784183</td>\n",
       "      <td>0.424068</td>\n",
       "      <td>-0.598159</td>\n",
       "      <td>0.787581</td>\n",
       "      <td>-0.350182</td>\n",
       "    </tr>\n",
       "    <tr>\n",
       "      <th>3</th>\n",
       "      <td>0.100686</td>\n",
       "      <td>1.541154</td>\n",
       "      <td>1.073808</td>\n",
       "      <td>-0.026449</td>\n",
       "      <td>-1.486072</td>\n",
       "      <td>1.688613</td>\n",
       "      <td>1.885007</td>\n",
       "      <td>1.329320</td>\n",
       "      <td>-0.005232</td>\n",
       "      <td>-1.000145</td>\n",
       "      <td>0.180239</td>\n",
       "      <td>1.203879</td>\n",
       "      <td>0.871432</td>\n",
       "      <td>1.173420</td>\n",
       "      <td>-0.853063</td>\n",
       "      <td>1.328768</td>\n",
       "      <td>0.437148</td>\n",
       "      <td>0.130700</td>\n",
       "      <td>0.966953</td>\n",
       "      <td>-0.073164</td>\n",
       "      <td>-0.798641</td>\n",
       "      <td>-0.278122</td>\n",
       "      <td>-0.188214</td>\n",
       "    </tr>\n",
       "    <tr>\n",
       "      <th>4</th>\n",
       "      <td>0.412813</td>\n",
       "      <td>0.657982</td>\n",
       "      <td>-0.307163</td>\n",
       "      <td>-0.408955</td>\n",
       "      <td>-0.268168</td>\n",
       "      <td>-0.780866</td>\n",
       "      <td>-0.530879</td>\n",
       "      <td>-0.644793</td>\n",
       "      <td>-1.417159</td>\n",
       "      <td>0.999855</td>\n",
       "      <td>-0.485384</td>\n",
       "      <td>1.203879</td>\n",
       "      <td>-1.486077</td>\n",
       "      <td>-1.193370</td>\n",
       "      <td>-1.516856</td>\n",
       "      <td>-0.577852</td>\n",
       "      <td>-1.122622</td>\n",
       "      <td>0.694128</td>\n",
       "      <td>-0.403501</td>\n",
       "      <td>-0.989134</td>\n",
       "      <td>-0.838266</td>\n",
       "      <td>-0.949764</td>\n",
       "      <td>0.459660</td>\n",
       "    </tr>\n",
       "    <tr>\n",
       "      <th>5</th>\n",
       "      <td>-1.659305</td>\n",
       "      <td>-0.666774</td>\n",
       "      <td>-0.320336</td>\n",
       "      <td>2.094155</td>\n",
       "      <td>-1.103302</td>\n",
       "      <td>0.453873</td>\n",
       "      <td>-0.530879</td>\n",
       "      <td>0.342264</td>\n",
       "      <td>1.406694</td>\n",
       "      <td>-1.000145</td>\n",
       "      <td>1.895857</td>\n",
       "      <td>-1.289017</td>\n",
       "      <td>0.871432</td>\n",
       "      <td>-0.009975</td>\n",
       "      <td>-0.189269</td>\n",
       "      <td>1.104460</td>\n",
       "      <td>-1.011210</td>\n",
       "      <td>-0.432729</td>\n",
       "      <td>-0.346399</td>\n",
       "      <td>0.331435</td>\n",
       "      <td>0.814499</td>\n",
       "      <td>0.556723</td>\n",
       "      <td>-1.564944</td>\n",
       "    </tr>\n",
       "  </tbody>\n",
       "</table>\n",
       "</div>"
      ],
      "text/plain": [
       "     PRT_ID      AREA  INT_SQFT  DATE_SALE  DIST_MAINROAD  N_BEDROOM  \\\n",
       "0 -0.635832  0.657982 -0.794565   0.456979       0.549568  -0.780866   \n",
       "2 -1.128187 -1.549946 -1.003138   0.909258      -0.511749  -0.780866   \n",
       "3  0.100686  1.541154  1.073808  -0.026449      -1.486072   1.688613   \n",
       "4  0.412813  0.657982 -0.307163  -0.408955      -0.268168  -0.780866   \n",
       "5 -1.659305 -0.666774 -0.320336   2.094155      -1.103302   0.453873   \n",
       "\n",
       "   N_BATHROOM    N_ROOM  SALE_COND  PARK_FACIL  DATE_BUILD  BUILDTYPE  \\\n",
       "0   -0.530879 -0.644793  -1.417159    0.999855   -1.465552  -1.289017   \n",
       "2   -0.530879 -0.644793  -1.417159    0.999855    0.532399  -1.289017   \n",
       "3    1.885007  1.329320  -0.005232   -1.000145    0.180239   1.203879   \n",
       "4   -0.530879 -0.644793  -1.417159    0.999855   -0.485384   1.203879   \n",
       "5   -0.530879  0.342264   1.406694   -1.000145    1.895857  -1.289017   \n",
       "\n",
       "   UTILITY_AVAIL    STREET    MZZONE  QS_ROOMS  QS_BATHROOM  QS_BEDROOM  \\\n",
       "0      -1.486077  1.173420 -2.180650  0.543689     0.437148    1.595613   \n",
       "2      -0.307323 -1.193370  0.474524  0.655843     0.325736   -1.446899   \n",
       "3       0.871432  1.173420 -0.853063  1.328768     0.437148    0.130700   \n",
       "4      -1.486077 -1.193370 -1.516856 -0.577852    -1.122622    0.694128   \n",
       "5       0.871432 -0.009975 -0.189269  1.104460    -1.011210   -0.432729   \n",
       "\n",
       "   QS_OVERALL   REG_FEE    COMMIS  SALES_PRICE       age  \n",
       "0    1.576044  0.108609  0.097329    -0.891253  1.593438  \n",
       "2   -0.784183  0.424068 -0.598159     0.787581 -0.350182  \n",
       "3    0.966953 -0.073164 -0.798641    -0.278122 -0.188214  \n",
       "4   -0.403501 -0.989134 -0.838266    -0.949764  0.459660  \n",
       "5   -0.346399  0.331435  0.814499     0.556723 -1.564944  "
      ]
     },
     "execution_count": 86,
     "metadata": {},
     "output_type": "execute_result"
    }
   ],
   "source": [
    "df1.head()"
   ]
  },
  {
   "cell_type": "markdown",
   "id": "6a6e1bb8",
   "metadata": {},
   "source": [
    "## build the regression models"
   ]
  },
  {
   "cell_type": "code",
   "execution_count": 87,
   "id": "11a81fa2",
   "metadata": {},
   "outputs": [],
   "source": [
    "from sklearn.linear_model import LinearRegression\n",
    "from sklearn.tree import DecisionTreeRegressor\n",
    "from sklearn.ensemble import RandomForestRegressor\n",
    "from sklearn.svm import SVR\n",
    "from sklearn.neighbors import KNeighborsRegressor\n",
    "import xgboost as XGBRegressor\n",
    "from sklearn.metrics import r2_score,mean_absolute_error,mean_squared_error"
   ]
  },
  {
   "cell_type": "code",
   "execution_count": 88,
   "id": "d14f8ecd",
   "metadata": {},
   "outputs": [],
   "source": [
    "x = df1.drop(['PRT_ID','DATE_SALE','N_ROOM','DATE_BUILD','SALES_PRICE'],axis=1)\n",
    "y = df1['SALES_PRICE']"
   ]
  },
  {
   "cell_type": "code",
   "execution_count": 89,
   "id": "f81a8043",
   "metadata": {},
   "outputs": [
    {
     "data": {
      "text/plain": [
       "((5160, 18), (1721, 18), (5160,), (1721,))"
      ]
     },
     "execution_count": 89,
     "metadata": {},
     "output_type": "execute_result"
    }
   ],
   "source": [
    "# Splitting the Data into Training set and Testing Set\n",
    "from sklearn.model_selection import train_test_split\n",
    "x_train,x_test,y_train,y_test=train_test_split(x,y,test_size=0.25,random_state=42)\n",
    "x_train.shape,x_test.shape,y_train.shape,y_test.shape"
   ]
  },
  {
   "cell_type": "markdown",
   "id": "6b0273cd",
   "metadata": {},
   "source": [
    "## linear regression model"
   ]
  },
  {
   "cell_type": "code",
   "execution_count": 91,
   "id": "6e802251",
   "metadata": {},
   "outputs": [
    {
     "name": "stdout",
     "output_type": "stream",
     "text": [
      "Mean Absolute Error : 0.3075026141271198\n",
      "Mean Squared Error:0.14746353130414241\n",
      "Root Mean Squared Error: 0.3840098062603902\n",
      "R2- SCORE: 0.8506072530400764\n"
     ]
    }
   ],
   "source": [
    "from sklearn.linear_model import LinearRegression\n",
    "lr = LinearRegression()\n",
    "lr.fit(x_train,y_train)\n",
    "y_pred = lr.predict(x_test)\n",
    "print(f\"Mean Absolute Error : {mean_absolute_error(y_test,y_pred)}\")\n",
    "print(f\"Mean Squared Error:{mean_squared_error(y_test,y_pred)}\")\n",
    "print(f\"Root Mean Squared Error: {np.sqrt(mean_squared_error(y_test,y_pred))}\")\n",
    "print('R2- SCORE:', r2_score(y_test,y_pred))"
   ]
  },
  {
   "cell_type": "code",
   "execution_count": 92,
   "id": "523da362",
   "metadata": {},
   "outputs": [
    {
     "name": "stdout",
     "output_type": "stream",
     "text": [
      "0.8506072530400764\n"
     ]
    }
   ],
   "source": [
    "print(r2_score(y_test,y_pred))"
   ]
  },
  {
   "cell_type": "markdown",
   "id": "71061353",
   "metadata": {},
   "source": [
    "## decision tree model"
   ]
  },
  {
   "cell_type": "code",
   "execution_count": 93,
   "id": "12021202",
   "metadata": {},
   "outputs": [
    {
     "name": "stdout",
     "output_type": "stream",
     "text": [
      "Mean Absolute Error : 0.21300409236635115\n",
      "Mean Squared Error:0.0763707937827877\n",
      "Root Mean Squared Error: 0.276352661978834\n",
      "R2- SCORE: 0.9226300728741601\n"
     ]
    }
   ],
   "source": [
    "from sklearn.tree import DecisionTreeRegressor\n",
    "dt = DecisionTreeRegressor()\n",
    "dt.fit(x_train,y_train)\n",
    "y_pred = dt.predict(x_test)\n",
    "print(f\"Mean Absolute Error : {mean_absolute_error(y_test,y_pred)}\")\n",
    "print(f\"Mean Squared Error:{mean_squared_error(y_test,y_pred)}\")\n",
    "print(f\"Root Mean Squared Error: {np.sqrt(mean_squared_error(y_test,y_pred))}\")\n",
    "print('R2- SCORE:', r2_score(y_test,y_pred))"
   ]
  },
  {
   "cell_type": "code",
   "execution_count": 94,
   "id": "46b133a5",
   "metadata": {},
   "outputs": [
    {
     "name": "stdout",
     "output_type": "stream",
     "text": [
      "0.9226300728741601\n"
     ]
    }
   ],
   "source": [
    "print(r2_score(y_test,y_pred))"
   ]
  },
  {
   "cell_type": "markdown",
   "id": "060d77e1",
   "metadata": {},
   "source": [
    "## randomforest model"
   ]
  },
  {
   "cell_type": "code",
   "execution_count": 95,
   "id": "3f095a72",
   "metadata": {},
   "outputs": [
    {
     "name": "stdout",
     "output_type": "stream",
     "text": [
      "Mean Absolute Error : 0.15267733682932297\n",
      "Mean Squared Error:0.03706800330990257\n",
      "Root Mean Squared Error: 0.19253052565736833\n",
      "R2- SCORE: 0.9624470485020161\n",
      "\n"
     ]
    }
   ],
   "source": [
    "from sklearn.ensemble import RandomForestRegressor\n",
    "rf= RandomForestRegressor(n_estimators=100,max_depth=15)\n",
    "rf.fit(x_train,y_train)\n",
    "y_pred = rf.predict(x_test)\n",
    "print(f\"Mean Absolute Error : {mean_absolute_error(y_test,y_pred)}\")\n",
    "print(f\"Mean Squared Error:{mean_squared_error(y_test,y_pred)}\")\n",
    "print(f\"Root Mean Squared Error: {np.sqrt(mean_squared_error(y_test,y_pred))}\")\n",
    "print('R2- SCORE:', r2_score(y_test,y_pred))\n",
    "print()"
   ]
  },
  {
   "cell_type": "code",
   "execution_count": 96,
   "id": "b50a5ce2",
   "metadata": {},
   "outputs": [
    {
     "name": "stdout",
     "output_type": "stream",
     "text": [
      "0.9624470485020161\n"
     ]
    }
   ],
   "source": [
    "print(r2_score(y_test,y_pred))"
   ]
  },
  {
   "cell_type": "markdown",
   "id": "365a2e49",
   "metadata": {},
   "source": [
    "## k - neighbour regressor model"
   ]
  },
  {
   "cell_type": "code",
   "execution_count": 98,
   "id": "a17aa4bd",
   "metadata": {},
   "outputs": [
    {
     "data": {
      "text/plain": [
       "[<matplotlib.lines.Line2D at 0x22754da0550>]"
      ]
     },
     "execution_count": 98,
     "metadata": {},
     "output_type": "execute_result"
    },
    {
     "data": {
      "image/png": "[encoded data removed]",
      "text/plain": [
       "<Figure size 792x432 with 1 Axes>"
      ]
     },
     "metadata": {
      "needs_background": "light"
     },
     "output_type": "display_data"
    }
   ],
   "source": [
    "from sklearn.neighbors import KNeighborsRegressor\n",
    "rmse =[]\n",
    "for k in range(1,11):\n",
    "    knr =KNeighborsRegressor(n_neighbors =k)\n",
    "    knr.fit(x_train,y_train)\n",
    "    y_pred = knr.predict(x_test)\n",
    "    error =np.sqrt(mean_squared_error(y_test,y_pred))\n",
    "    rmse.append(error)\n",
    "    \n",
    "kn =pd.DataFrame(rmse)    \n",
    "    \n",
    "plt.figure(figsize=(11,6)) \n",
    "plt.plot(kn)"
   ]
  },
  {
   "cell_type": "code",
   "execution_count": 111,
   "id": "0fbe12cf",
   "metadata": {},
   "outputs": [
    {
     "name": "stdout",
     "output_type": "stream",
     "text": [
      "Mean Absolute Error : 0.3165100949882015\n",
      "Mean Squared Error:0.18040375004465362\n",
      "Root Mean Squared Error: 0.4247396261766185\n",
      "R2- SCORE: 0.8172360885251284\n"
     ]
    }
   ],
   "source": [
    "knr = KNeighborsRegressor(n_neighbors = 6)\n",
    "knr.fit(x_train,y_train)\n",
    "y_pred = knr.predict(x_test)\n",
    "print(f\"Mean Absolute Error : {mean_absolute_error(y_test,y_pred)}\")\n",
    "print(f\"Mean Squared Error:{mean_squared_error(y_test,y_pred)}\")\n",
    "print(f\"Root Mean Squared Error: {np.sqrt(mean_squared_error(y_test,y_pred))}\")\n",
    "print('R2- SCORE:', r2_score(y_test,y_pred))"
   ]
  },
  {
   "cell_type": "markdown",
   "id": "c1a50e78",
   "metadata": {},
   "source": [
    "## xgb regressor model"
   ]
  },
  {
   "cell_type": "code",
   "execution_count": 101,
   "id": "a9eba2ca",
   "metadata": {},
   "outputs": [
    {
     "name": "stdout",
     "output_type": "stream",
     "text": [
      "Mean Absolute Error :0.09846671596626627\n",
      "Mean Squared Error : 0.01695177423431879\n",
      "Root Mean Squared Error: 0.13019897939046524\n",
      "R2- SCORE: 0.9828264514194622\n"
     ]
    }
   ],
   "source": [
    "\n",
    "from xgboost import XGBRegressor\n",
    "xgbr = XGBRegressor()\n",
    "xgbr.fit(x_train,y_train)\n",
    "y_pred = xgbr.predict(x_test)\n",
    "print(f'Mean Absolute Error :{mean_absolute_error(y_test,y_pred)}')\n",
    "print(f'Mean Squared Error : {mean_squared_error(y_test,y_pred)}')\n",
    "print(f\"Root Mean Squared Error: {np.sqrt(mean_squared_error(y_test,y_pred))}\")\n",
    "print('R2- SCORE:', r2_score(y_test,y_pred))"
   ]
  },
  {
   "cell_type": "code",
   "execution_count": 102,
   "id": "ae062105",
   "metadata": {},
   "outputs": [
    {
     "name": "stdout",
     "output_type": "stream",
     "text": [
      "0.9828264514194622\n"
     ]
    }
   ],
   "source": [
    "print(r2_score(y_test,y_pred))"
   ]
  },
  {
   "cell_type": "code",
   "execution_count": 104,
   "id": "da5ddafe",
   "metadata": {},
   "outputs": [
    {
     "data": {
      "text/html": [
       "<div>\n",
       "<style scoped>\n",
       "    .dataframe tbody tr th:only-of-type {\n",
       "        vertical-align: middle;\n",
       "    }\n",
       "\n",
       "    .dataframe tbody tr th {\n",
       "        vertical-align: top;\n",
       "    }\n",
       "\n",
       "    .dataframe thead th {\n",
       "        text-align: right;\n",
       "    }\n",
       "</style>\n",
       "<table border=\"1\" class=\"dataframe\">\n",
       "  <thead>\n",
       "    <tr style=\"text-align: right;\">\n",
       "      <th></th>\n",
       "      <th>price_actual</th>\n",
       "      <th>price_pred</th>\n",
       "    </tr>\n",
       "  </thead>\n",
       "  <tbody>\n",
       "    <tr>\n",
       "      <th>5910</th>\n",
       "      <td>-0.251296</td>\n",
       "      <td>-0.199371</td>\n",
       "    </tr>\n",
       "    <tr>\n",
       "      <th>5511</th>\n",
       "      <td>1.057347</td>\n",
       "      <td>1.100596</td>\n",
       "    </tr>\n",
       "    <tr>\n",
       "      <th>3000</th>\n",
       "      <td>0.129057</td>\n",
       "      <td>0.041339</td>\n",
       "    </tr>\n",
       "    <tr>\n",
       "      <th>3368</th>\n",
       "      <td>0.850353</td>\n",
       "      <td>0.901190</td>\n",
       "    </tr>\n",
       "    <tr>\n",
       "      <th>4757</th>\n",
       "      <td>-1.095854</td>\n",
       "      <td>-1.168165</td>\n",
       "    </tr>\n",
       "    <tr>\n",
       "      <th>5434</th>\n",
       "      <td>-0.420115</td>\n",
       "      <td>-0.418580</td>\n",
       "    </tr>\n",
       "    <tr>\n",
       "      <th>5974</th>\n",
       "      <td>0.737184</td>\n",
       "      <td>0.809263</td>\n",
       "    </tr>\n",
       "    <tr>\n",
       "      <th>6132</th>\n",
       "      <td>0.241483</td>\n",
       "      <td>-0.077701</td>\n",
       "    </tr>\n",
       "    <tr>\n",
       "      <th>1549</th>\n",
       "      <td>-1.544310</td>\n",
       "      <td>-1.545080</td>\n",
       "    </tr>\n",
       "    <tr>\n",
       "      <th>4316</th>\n",
       "      <td>1.667048</td>\n",
       "      <td>1.537506</td>\n",
       "    </tr>\n",
       "    <tr>\n",
       "      <th>3100</th>\n",
       "      <td>-0.551660</td>\n",
       "      <td>-0.502490</td>\n",
       "    </tr>\n",
       "    <tr>\n",
       "      <th>1471</th>\n",
       "      <td>0.972164</td>\n",
       "      <td>0.837095</td>\n",
       "    </tr>\n",
       "    <tr>\n",
       "      <th>3877</th>\n",
       "      <td>1.736155</td>\n",
       "      <td>1.699623</td>\n",
       "    </tr>\n",
       "    <tr>\n",
       "      <th>1499</th>\n",
       "      <td>-1.363341</td>\n",
       "      <td>-1.315491</td>\n",
       "    </tr>\n",
       "    <tr>\n",
       "      <th>3227</th>\n",
       "      <td>-1.778203</td>\n",
       "      <td>-1.676386</td>\n",
       "    </tr>\n",
       "    <tr>\n",
       "      <th>3024</th>\n",
       "      <td>-0.534949</td>\n",
       "      <td>-0.055523</td>\n",
       "    </tr>\n",
       "    <tr>\n",
       "      <th>104</th>\n",
       "      <td>-0.162667</td>\n",
       "      <td>0.002029</td>\n",
       "    </tr>\n",
       "    <tr>\n",
       "      <th>6656</th>\n",
       "      <td>0.738730</td>\n",
       "      <td>0.704108</td>\n",
       "    </tr>\n",
       "    <tr>\n",
       "      <th>3393</th>\n",
       "      <td>-0.730684</td>\n",
       "      <td>-0.771094</td>\n",
       "    </tr>\n",
       "    <tr>\n",
       "      <th>3406</th>\n",
       "      <td>0.079194</td>\n",
       "      <td>0.108867</td>\n",
       "    </tr>\n",
       "  </tbody>\n",
       "</table>\n",
       "</div>"
      ],
      "text/plain": [
       "      price_actual  price_pred\n",
       "5910     -0.251296   -0.199371\n",
       "5511      1.057347    1.100596\n",
       "3000      0.129057    0.041339\n",
       "3368      0.850353    0.901190\n",
       "4757     -1.095854   -1.168165\n",
       "5434     -0.420115   -0.418580\n",
       "5974      0.737184    0.809263\n",
       "6132      0.241483   -0.077701\n",
       "1549     -1.544310   -1.545080\n",
       "4316      1.667048    1.537506\n",
       "3100     -0.551660   -0.502490\n",
       "1471      0.972164    0.837095\n",
       "3877      1.736155    1.699623\n",
       "1499     -1.363341   -1.315491\n",
       "3227     -1.778203   -1.676386\n",
       "3024     -0.534949   -0.055523\n",
       "104      -0.162667    0.002029\n",
       "6656      0.738730    0.704108\n",
       "3393     -0.730684   -0.771094\n",
       "3406      0.079194    0.108867"
      ]
     },
     "execution_count": 104,
     "metadata": {},
     "output_type": "execute_result"
    }
   ],
   "source": [
    "xgbr.fit(x_train,y_train)\n",
    "y_pred = xgbr.predict(x_test)\n",
    "output = pd.DataFrame({'price_actual':y_test,'price_pred':y_pred})\n",
    "output.head(20)"
   ]
  },
  {
   "cell_type": "markdown",
   "id": "5204e833",
   "metadata": {},
   "source": [
    "## conclusion"
   ]
  },
  {
   "cell_type": "markdown",
   "id": "a0630b52",
   "metadata": {},
   "source": [
    "After training several model can be observed that the xgboost model performed very\n",
    "well for this dataset with low rmse 0.13 and R2-score of 0.98301.so it can be concluded that xgboost \n",
    "model provide best results amongs all other model.it will provide best results in \n",
    "predicting the prices for this particular datset."
   ]
  },
  {
   "cell_type": "code",
   "execution_count": null,
   "id": "be899c94",
   "metadata": {},
   "outputs": [],
   "source": []
  }
 ],
 "metadata": {
  "kernelspec": {
   "display_name": "Python 3 (ipykernel)",
   "language": "python",
   "name": "python3"
  },
  "language_info": {
   "codemirror_mode": {
    "name": "ipython",
    "version": 3
   },
   "file_extension": ".py",
   "mimetype": "text/x-python",
   "name": "python",
   "nbconvert_exporter": "python",
   "pygments_lexer": "ipython3",
   "version": "3.9.12"
  }
 },
 "nbformat": 4,
 "nbformat_minor": 5
}
